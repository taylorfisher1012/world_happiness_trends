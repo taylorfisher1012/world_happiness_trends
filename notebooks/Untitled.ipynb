{
 "cells": [
  {
   "cell_type": "markdown",
   "id": "ac837ca4",
   "metadata": {},
   "source": [
    "World Happiness Report from the Gallup World Poll"
   ]
  },
  {
   "cell_type": "code",
   "execution_count": 1,
   "id": "7c33cabe",
   "metadata": {},
   "outputs": [],
   "source": [
    "import pandas as pd\n",
    "import numpy as np\n",
    "import matplotlib.pyplot as plt\n",
    "import seaborn as sns"
   ]
  },
  {
   "cell_type": "code",
   "execution_count": 2,
   "id": "acd82f80",
   "metadata": {},
   "outputs": [],
   "source": [
    "happiness_report = pd.read_csv('../data/world_happiness_report.csv')"
   ]
  },
  {
   "cell_type": "code",
   "execution_count": 4,
   "id": "af353f73",
   "metadata": {},
   "outputs": [
    {
     "data": {
      "text/plain": [
       "Country name                         object\n",
       "year                                  int64\n",
       "Life Ladder                         float64\n",
       "Log GDP per capita                  float64\n",
       "Social support                      float64\n",
       "Healthy life expectancy at birth    float64\n",
       "Freedom to make life choices        float64\n",
       "Generosity                          float64\n",
       "Perceptions of corruption           float64\n",
       "Positive affect                     float64\n",
       "Negative affect                     float64\n",
       "dtype: object"
      ]
     },
     "execution_count": 4,
     "metadata": {},
     "output_type": "execute_result"
    }
   ],
   "source": [
    "happiness_report.dtypes"
   ]
  },
  {
   "cell_type": "code",
   "execution_count": 6,
   "id": "fafe3d97",
   "metadata": {},
   "outputs": [
    {
     "data": {
      "text/html": [
       "<div>\n",
       "<style scoped>\n",
       "    .dataframe tbody tr th:only-of-type {\n",
       "        vertical-align: middle;\n",
       "    }\n",
       "\n",
       "    .dataframe tbody tr th {\n",
       "        vertical-align: top;\n",
       "    }\n",
       "\n",
       "    .dataframe thead th {\n",
       "        text-align: right;\n",
       "    }\n",
       "</style>\n",
       "<table border=\"1\" class=\"dataframe\">\n",
       "  <thead>\n",
       "    <tr style=\"text-align: right;\">\n",
       "      <th></th>\n",
       "      <th>Country name</th>\n",
       "      <th>year</th>\n",
       "      <th>Life Ladder</th>\n",
       "      <th>Log GDP per capita</th>\n",
       "      <th>Social support</th>\n",
       "      <th>Healthy life expectancy at birth</th>\n",
       "      <th>Freedom to make life choices</th>\n",
       "      <th>Generosity</th>\n",
       "      <th>Perceptions of corruption</th>\n",
       "      <th>Positive affect</th>\n",
       "      <th>Negative affect</th>\n",
       "    </tr>\n",
       "  </thead>\n",
       "  <tbody>\n",
       "    <tr>\n",
       "      <th>0</th>\n",
       "      <td>Afghanistan</td>\n",
       "      <td>2008</td>\n",
       "      <td>3.724</td>\n",
       "      <td>7.350</td>\n",
       "      <td>0.451</td>\n",
       "      <td>50.500</td>\n",
       "      <td>0.718</td>\n",
       "      <td>0.168</td>\n",
       "      <td>0.882</td>\n",
       "      <td>0.414</td>\n",
       "      <td>0.258</td>\n",
       "    </tr>\n",
       "    <tr>\n",
       "      <th>1</th>\n",
       "      <td>Afghanistan</td>\n",
       "      <td>2009</td>\n",
       "      <td>4.402</td>\n",
       "      <td>7.509</td>\n",
       "      <td>0.552</td>\n",
       "      <td>50.800</td>\n",
       "      <td>0.679</td>\n",
       "      <td>0.191</td>\n",
       "      <td>0.850</td>\n",
       "      <td>0.481</td>\n",
       "      <td>0.237</td>\n",
       "    </tr>\n",
       "    <tr>\n",
       "      <th>2</th>\n",
       "      <td>Afghanistan</td>\n",
       "      <td>2010</td>\n",
       "      <td>4.758</td>\n",
       "      <td>7.614</td>\n",
       "      <td>0.539</td>\n",
       "      <td>51.100</td>\n",
       "      <td>0.600</td>\n",
       "      <td>0.121</td>\n",
       "      <td>0.707</td>\n",
       "      <td>0.517</td>\n",
       "      <td>0.275</td>\n",
       "    </tr>\n",
       "    <tr>\n",
       "      <th>3</th>\n",
       "      <td>Afghanistan</td>\n",
       "      <td>2011</td>\n",
       "      <td>3.832</td>\n",
       "      <td>7.581</td>\n",
       "      <td>0.521</td>\n",
       "      <td>51.400</td>\n",
       "      <td>0.496</td>\n",
       "      <td>0.164</td>\n",
       "      <td>0.731</td>\n",
       "      <td>0.480</td>\n",
       "      <td>0.267</td>\n",
       "    </tr>\n",
       "    <tr>\n",
       "      <th>4</th>\n",
       "      <td>Afghanistan</td>\n",
       "      <td>2012</td>\n",
       "      <td>3.783</td>\n",
       "      <td>7.661</td>\n",
       "      <td>0.521</td>\n",
       "      <td>51.700</td>\n",
       "      <td>0.531</td>\n",
       "      <td>0.238</td>\n",
       "      <td>0.776</td>\n",
       "      <td>0.614</td>\n",
       "      <td>0.268</td>\n",
       "    </tr>\n",
       "    <tr>\n",
       "      <th>...</th>\n",
       "      <td>...</td>\n",
       "      <td>...</td>\n",
       "      <td>...</td>\n",
       "      <td>...</td>\n",
       "      <td>...</td>\n",
       "      <td>...</td>\n",
       "      <td>...</td>\n",
       "      <td>...</td>\n",
       "      <td>...</td>\n",
       "      <td>...</td>\n",
       "      <td>...</td>\n",
       "    </tr>\n",
       "    <tr>\n",
       "      <th>2194</th>\n",
       "      <td>Zimbabwe</td>\n",
       "      <td>2018</td>\n",
       "      <td>3.616</td>\n",
       "      <td>7.783</td>\n",
       "      <td>0.775</td>\n",
       "      <td>52.625</td>\n",
       "      <td>0.763</td>\n",
       "      <td>-0.051</td>\n",
       "      <td>0.844</td>\n",
       "      <td>0.658</td>\n",
       "      <td>0.212</td>\n",
       "    </tr>\n",
       "    <tr>\n",
       "      <th>2195</th>\n",
       "      <td>Zimbabwe</td>\n",
       "      <td>2019</td>\n",
       "      <td>2.694</td>\n",
       "      <td>7.698</td>\n",
       "      <td>0.759</td>\n",
       "      <td>53.100</td>\n",
       "      <td>0.632</td>\n",
       "      <td>-0.047</td>\n",
       "      <td>0.831</td>\n",
       "      <td>0.658</td>\n",
       "      <td>0.235</td>\n",
       "    </tr>\n",
       "    <tr>\n",
       "      <th>2196</th>\n",
       "      <td>Zimbabwe</td>\n",
       "      <td>2020</td>\n",
       "      <td>3.160</td>\n",
       "      <td>7.596</td>\n",
       "      <td>0.717</td>\n",
       "      <td>53.575</td>\n",
       "      <td>0.643</td>\n",
       "      <td>0.006</td>\n",
       "      <td>0.789</td>\n",
       "      <td>0.661</td>\n",
       "      <td>0.346</td>\n",
       "    </tr>\n",
       "    <tr>\n",
       "      <th>2197</th>\n",
       "      <td>Zimbabwe</td>\n",
       "      <td>2021</td>\n",
       "      <td>3.155</td>\n",
       "      <td>7.657</td>\n",
       "      <td>0.685</td>\n",
       "      <td>54.050</td>\n",
       "      <td>0.668</td>\n",
       "      <td>-0.076</td>\n",
       "      <td>0.757</td>\n",
       "      <td>0.610</td>\n",
       "      <td>0.242</td>\n",
       "    </tr>\n",
       "    <tr>\n",
       "      <th>2198</th>\n",
       "      <td>Zimbabwe</td>\n",
       "      <td>2022</td>\n",
       "      <td>3.296</td>\n",
       "      <td>7.670</td>\n",
       "      <td>0.666</td>\n",
       "      <td>54.525</td>\n",
       "      <td>0.652</td>\n",
       "      <td>-0.070</td>\n",
       "      <td>0.753</td>\n",
       "      <td>0.641</td>\n",
       "      <td>0.191</td>\n",
       "    </tr>\n",
       "  </tbody>\n",
       "</table>\n",
       "<p>2199 rows × 11 columns</p>\n",
       "</div>"
      ],
      "text/plain": [
       "     Country name  year  Life Ladder  Log GDP per capita  Social support  \\\n",
       "0     Afghanistan  2008        3.724               7.350           0.451   \n",
       "1     Afghanistan  2009        4.402               7.509           0.552   \n",
       "2     Afghanistan  2010        4.758               7.614           0.539   \n",
       "3     Afghanistan  2011        3.832               7.581           0.521   \n",
       "4     Afghanistan  2012        3.783               7.661           0.521   \n",
       "...           ...   ...          ...                 ...             ...   \n",
       "2194     Zimbabwe  2018        3.616               7.783           0.775   \n",
       "2195     Zimbabwe  2019        2.694               7.698           0.759   \n",
       "2196     Zimbabwe  2020        3.160               7.596           0.717   \n",
       "2197     Zimbabwe  2021        3.155               7.657           0.685   \n",
       "2198     Zimbabwe  2022        3.296               7.670           0.666   \n",
       "\n",
       "      Healthy life expectancy at birth  Freedom to make life choices  \\\n",
       "0                               50.500                         0.718   \n",
       "1                               50.800                         0.679   \n",
       "2                               51.100                         0.600   \n",
       "3                               51.400                         0.496   \n",
       "4                               51.700                         0.531   \n",
       "...                                ...                           ...   \n",
       "2194                            52.625                         0.763   \n",
       "2195                            53.100                         0.632   \n",
       "2196                            53.575                         0.643   \n",
       "2197                            54.050                         0.668   \n",
       "2198                            54.525                         0.652   \n",
       "\n",
       "      Generosity  Perceptions of corruption  Positive affect  Negative affect  \n",
       "0          0.168                      0.882            0.414            0.258  \n",
       "1          0.191                      0.850            0.481            0.237  \n",
       "2          0.121                      0.707            0.517            0.275  \n",
       "3          0.164                      0.731            0.480            0.267  \n",
       "4          0.238                      0.776            0.614            0.268  \n",
       "...          ...                        ...              ...              ...  \n",
       "2194      -0.051                      0.844            0.658            0.212  \n",
       "2195      -0.047                      0.831            0.658            0.235  \n",
       "2196       0.006                      0.789            0.661            0.346  \n",
       "2197      -0.076                      0.757            0.610            0.242  \n",
       "2198      -0.070                      0.753            0.641            0.191  \n",
       "\n",
       "[2199 rows x 11 columns]"
      ]
     },
     "execution_count": 6,
     "metadata": {},
     "output_type": "execute_result"
    }
   ],
   "source": [
    "happiness_report"
   ]
  },
  {
   "cell_type": "code",
   "execution_count": 41,
   "id": "c775cf2c",
   "metadata": {},
   "outputs": [
    {
     "data": {
      "text/plain": [
       "Text(0.5, 1.0, 'Life Ladder by year')"
      ]
     },
     "execution_count": 41,
     "metadata": {},
     "output_type": "execute_result"
    },
    {
     "data": {
      "image/png": "[encoded data removed]",
      "text/plain": [
       "<Figure size 640x480 with 1 Axes>"
      ]
     },
     "metadata": {},
     "output_type": "display_data"
    }
   ],
   "source": [
    "afghan = happiness_report.loc[happiness_report['Country name'] == 'Afghanistan']\n",
    "afghan\n",
    "plt.plot('year', 'Life Ladder', data = afghan)\n",
    "plt.xlabel('Year')\n",
    "plt.ylabel('Life Ladder (score 0-10)')\n",
    "plt.title('Life Ladder by year')"
   ]
  },
  {
   "cell_type": "code",
   "execution_count": 8,
   "id": "c98afaa0",
   "metadata": {},
   "outputs": [],
   "source": [
    "report2008 = happiness_report.loc[happiness_report['year'] == 2008]"
   ]
  },
  {
   "cell_type": "code",
   "execution_count": 10,
   "id": "a4f0ef1e",
   "metadata": {},
   "outputs": [],
   "source": [
    "report2009 = happiness_report.loc[happiness_report['year'] == 2009]"
   ]
  },
  {
   "cell_type": "code",
   "execution_count": 12,
   "id": "7296a51a",
   "metadata": {},
   "outputs": [],
   "source": [
    "report2010 = happiness_report.loc[happiness_report['year'] == 2010]"
   ]
  },
  {
   "cell_type": "code",
   "execution_count": 14,
   "id": "6a9b47b1",
   "metadata": {},
   "outputs": [],
   "source": [
    "report2011 = happiness_report.loc[happiness_report['year'] == 2011]"
   ]
  },
  {
   "cell_type": "code",
   "execution_count": 16,
   "id": "45a76703",
   "metadata": {},
   "outputs": [],
   "source": [
    "report2012 = happiness_report.loc[happiness_report['year'] == 2012]"
   ]
  },
  {
   "cell_type": "code",
   "execution_count": 18,
   "id": "d6615a55",
   "metadata": {},
   "outputs": [],
   "source": [
    "report2013 = happiness_report.loc[happiness_report['year'] == 2013]"
   ]
  },
  {
   "cell_type": "code",
   "execution_count": 20,
   "id": "49ecbd58",
   "metadata": {},
   "outputs": [],
   "source": [
    "report2014 = happiness_report.loc[happiness_report['year'] == 2014]"
   ]
  },
  {
   "cell_type": "code",
   "execution_count": 21,
   "id": "7d515379",
   "metadata": {},
   "outputs": [],
   "source": [
    "report2015 = happiness_report.loc[happiness_report['year'] == 2015]"
   ]
  },
  {
   "cell_type": "code",
   "execution_count": 23,
   "id": "768066bb",
   "metadata": {},
   "outputs": [],
   "source": [
    "report2016 = happiness_report.loc[happiness_report['year'] == 2016]"
   ]
  },
  {
   "cell_type": "code",
   "execution_count": 25,
   "id": "9cac2a38",
   "metadata": {},
   "outputs": [],
   "source": [
    "report2017 = happiness_report.loc[happiness_report['year'] == 2017]"
   ]
  },
  {
   "cell_type": "code",
   "execution_count": 27,
   "id": "89719dd0",
   "metadata": {},
   "outputs": [],
   "source": [
    "report2018 = happiness_report.loc[happiness_report['year'] == 2018]"
   ]
  },
  {
   "cell_type": "code",
   "execution_count": 29,
   "id": "52869280",
   "metadata": {},
   "outputs": [],
   "source": [
    "report2019 = happiness_report.loc[happiness_report['year'] == 2019]"
   ]
  },
  {
   "cell_type": "code",
   "execution_count": 31,
   "id": "19943f68",
   "metadata": {},
   "outputs": [],
   "source": [
    "report2020 = happiness_report.loc[happiness_report['year'] == 2020]"
   ]
  },
  {
   "cell_type": "code",
   "execution_count": 32,
   "id": "475d2782",
   "metadata": {},
   "outputs": [],
   "source": [
    "report2021 = happiness_report.loc[happiness_report['year'] == 2021]"
   ]
  },
  {
   "cell_type": "code",
   "execution_count": 34,
   "id": "14dfa957",
   "metadata": {},
   "outputs": [],
   "source": [
    "report2022 = happiness_report.loc[happiness_report['year'] == 2022]"
   ]
  },
  {
   "cell_type": "code",
   "execution_count": null,
   "id": "8a63ef24",
   "metadata": {},
   "outputs": [],
   "source": []
  }
 ],
 "metadata": {
  "kernelspec": {
   "display_name": "Python 3 (ipykernel)",
   "language": "python",
   "name": "python3"
  },
  "language_info": {
   "codemirror_mode": {
    "name": "ipython",
    "version": 3
   },
   "file_extension": ".py",
   "mimetype": "text/x-python",
   "name": "python",
   "nbconvert_exporter": "python",
   "pygments_lexer": "ipython3",
   "version": "3.11.5"
  }
 },
 "nbformat": 4,
 "nbformat_minor": 5
}
